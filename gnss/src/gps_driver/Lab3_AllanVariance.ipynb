{
 "cells": [
  {
   "cell_type": "markdown",
   "id": "ab2bbec4-3670-4904-93e2-e557cd9e78c7",
   "metadata": {},
   "source": [
    "## Allan Variance Tools for Lab 3\n",
    "\n",
    "Allan variance (specifically, overlapping Allan Variance) is a great way for us to model the noise performance of our gyroscope and accelerometer to get a sense of how our ideal and measured rates will differ. \n",
    "\n",
    "- We will use Allan variance tools AllanTools from the Py Package Index (PyPI) to calculate the noise parameters of the gyro and accelerometer: \n",
    "    - PyPI info: https://pypi.org/project/AllanTools/\n",
    "    - Documentation: https://allantools.readthedocs.io/en/latest/\n",
    "    - Git repo: https://github.com/aewallin/allantools\n",
    "\n",
    "- Get the tools you will need to analyze Allan Variance with ```pip3 install AllanTools```\n",
    "\n",
    "- Revise your code (make a new .py file) to read in the 5 h bag and break the string into relevant components. You may want to make sure you have some error handling, since occasionally the string from the bag will be corrupted!\n",
    "\n",
    "- Use the oadev function (overlapping Allan variance) from AllanTools to calculate the Allan variance for gyro X, Y, Z, and accel X, Y, Z\n",
    "    - Use \"all\" for taus value\n",
    "    - Use the default of phase\n",
    "\n",
    "- Calculate the three noise parameters from each of the six data sets (gyro and accel x, y, z): \n",
    "    - Bias instability (B), the value at the local minimum Allan variance\n",
    "    - Angle random walk (N), at $\\tau$ = 1 s\n",
    "    - Rate random walk, (K) as given by the slope after the local minimum\n",
    "\n",
    "### Additional Allan Variance Resources\n",
    "\n",
    "You may find these additional resources on Allan Variance useful:\n",
    "\n",
    "- https://www.nxp.com/docs/en/application-note/AN5087.pdf\n",
    "- https://mwrona.com/posts/gyro-noise-analysis/\n",
    "- https://home.engineering.iastate.edu/~shermanp/AERE432/lectures/Rate%20Gyros/Allan%20variance.pdf\n"
   ]
  }
 ],
 "metadata": {
  "kernelspec": {
   "display_name": "Python 3 (ipykernel)",
   "language": "python",
   "name": "python3"
  },
  "language_info": {
   "codemirror_mode": {
    "name": "ipython",
    "version": 3
   },
   "file_extension": ".py",
   "mimetype": "text/x-python",
   "name": "python",
   "nbconvert_exporter": "python",
   "pygments_lexer": "ipython3",
   "version": "3.12.0"
  }
 },
 "nbformat": 4,
 "nbformat_minor": 5
}
